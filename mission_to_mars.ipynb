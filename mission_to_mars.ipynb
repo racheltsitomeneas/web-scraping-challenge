{
 "cells": [
  {
   "cell_type": "code",
   "execution_count": 1,
   "id": "f095ac99",
   "metadata": {},
   "outputs": [],
   "source": [
    "#import dependencies\n",
    "from bs4 import BeautifulSoup as bs\n",
    "import requests\n",
    "from splinter import Browser\n",
    "import os\n",
    "import pandas as pd\n",
    "import time\n",
    "from webdriver_manager.chrome import ChromeDriverManager"
   ]
  },
  {
   "cell_type": "markdown",
   "id": "51529927",
   "metadata": {},
   "source": [
    "### Setup splinter and connect to NASA website "
   ]
  },
  {
   "cell_type": "code",
   "execution_count": 2,
   "id": "9dcf9f75",
   "metadata": {
    "scrolled": true
   },
   "outputs": [
    {
     "name": "stderr",
     "output_type": "stream",
     "text": [
      "\n",
      "\n",
      "====== WebDriver manager ======\n",
      "Current google-chrome version is 92.0.4515\n",
      "Get LATEST driver version for 92.0.4515\n",
      "Driver [C:\\Users\\racht\\.wdm\\drivers\\chromedriver\\win32\\92.0.4515.107\\chromedriver.exe] found in cache\n"
     ]
    }
   ],
   "source": [
    "\n",
    "executable_path = {'executable_path': ChromeDriverManager().install()}\n",
    "browser = Browser('chrome', **executable_path, headless=False)"
   ]
  },
  {
   "cell_type": "code",
   "execution_count": 3,
   "id": "97b992d6",
   "metadata": {},
   "outputs": [],
   "source": [
    "url = \"https://mars.nasa.gov/news/\"\n",
    "browser.visit(url)"
   ]
  },
  {
   "cell_type": "code",
   "execution_count": 4,
   "id": "b3be21c4",
   "metadata": {},
   "outputs": [],
   "source": [
    "\n",
    "# Parse results HTML with bs\n",
    "\n",
    "html = browser.html\n",
    "news_soup = bs(html, \"html.parser\")\n",
    "slide_element = news_soup.select_one(\"ul.item_list li.slide\")"
   ]
  },
  {
   "cell_type": "markdown",
   "id": "a9d835b2",
   "metadata": {},
   "source": [
    "### Find the most recent news title and paragraph"
   ]
  },
  {
   "cell_type": "code",
   "execution_count": 5,
   "id": "55ba1159",
   "metadata": {},
   "outputs": [
    {
     "data": {
      "text/plain": [
       "<div class=\"content_title\"><a href=\"/news/9012/nasas-ingenuity-mars-helicopter-spots-perseverance-from-above/\" target=\"_self\">NASA's Ingenuity Mars Helicopter Spots Perseverance From Above</a></div>"
      ]
     },
     "execution_count": 5,
     "metadata": {},
     "output_type": "execute_result"
    }
   ],
   "source": [
    "#find the lastest news title and paragraph of text\n",
    "slide_element.find(\"div\", class_=\"content_title\")"
   ]
  },
  {
   "cell_type": "code",
   "execution_count": 6,
   "id": "0b0a84b3",
   "metadata": {},
   "outputs": [],
   "source": [
    "news_title = slide_element.find(\"div\", class_=\"content_title\").get_text()"
   ]
  },
  {
   "cell_type": "code",
   "execution_count": 7,
   "id": "1b1578f7",
   "metadata": {},
   "outputs": [],
   "source": [
    "news_paragraph = slide_element.find(\"div\", class_=\"article_teaser_body\").get_text()"
   ]
  },
  {
   "cell_type": "code",
   "execution_count": 8,
   "id": "7714bb5d",
   "metadata": {},
   "outputs": [
    {
     "name": "stdout",
     "output_type": "stream",
     "text": [
      "NASA's Ingenuity Mars Helicopter Spots Perseverance From Above\n",
      "Can you see NASA’s newest rover in this picture from Jezero Crater?\n"
     ]
    }
   ],
   "source": [
    "print(news_title)\n",
    "print(news_paragraph)"
   ]
  },
  {
   "cell_type": "markdown",
   "id": "a6e97c90",
   "metadata": {},
   "source": [
    "### Scrape HTML for the Featured Image "
   ]
  },
  {
   "cell_type": "code",
   "execution_count": 9,
   "id": "6fcdfab9",
   "metadata": {},
   "outputs": [],
   "source": [
    "featured_url = \"https://spaceimages-mars.com/\"\n",
    "\n",
    "browser.visit(featured_url)"
   ]
  },
  {
   "cell_type": "code",
   "execution_count": 10,
   "id": "06dea2db",
   "metadata": {},
   "outputs": [
    {
     "name": "stderr",
     "output_type": "stream",
     "text": [
      "c:\\users\\racht\\anaconda3\\envs\\rtpython\\lib\\site-packages\\splinter\\driver\\webdriver\\__init__.py:519: FutureWarning: browser.find_link_by_partial_text is deprecated. Use browser.links.find_by_partial_text instead.\n",
      "  warnings.warn(\n"
     ]
    }
   ],
   "source": [
    "browser.click_link_by_partial_text('FULL IMAGE')"
   ]
  },
  {
   "cell_type": "code",
   "execution_count": 11,
   "id": "5027e765",
   "metadata": {},
   "outputs": [
    {
     "name": "stdout",
     "output_type": "stream",
     "text": [
      "https://spaceimages-mars.com/image/featured/mars2.jpg\n"
     ]
    }
   ],
   "source": [
    "bigimage_html = browser.html\n",
    "bigimage_soup = bs(bigimage_html, 'html.parser')\n",
    "\n",
    "bigimage = bigimage_soup.body.find(class_ = 'headerimage fade-in')\n",
    "bigimage_img = bigimage['src']\n",
    "\n",
    "bigimage_base_url = 'https://spaceimages-mars.com/'\n",
    "featured_image_url = bigimage_base_url + bigimage_img\n",
    "print(featured_image_url)"
   ]
  },
  {
   "cell_type": "code",
   "execution_count": null,
   "id": "2c2a968f",
   "metadata": {},
   "outputs": [],
   "source": []
  },
  {
   "cell_type": "markdown",
   "id": "6337c4d3",
   "metadata": {},
   "source": [
    "### Scrape a webpage for facts about Mars"
   ]
  },
  {
   "cell_type": "code",
   "execution_count": 12,
   "id": "f1babd93",
   "metadata": {},
   "outputs": [
    {
     "data": {
      "text/plain": [
       "[                         0                1                2\n",
       " 0  Mars - Earth Comparison             Mars            Earth\n",
       " 1                Diameter:         6,779 km        12,742 km\n",
       " 2                    Mass:  6.39 × 10^23 kg  5.97 × 10^24 kg\n",
       " 3                   Moons:                2                1\n",
       " 4       Distance from Sun:   227,943,824 km   149,598,262 km\n",
       " 5          Length of Year:   687 Earth days      365.24 days\n",
       " 6             Temperature:     -87 to -5 °C      -88 to 58°C,\n",
       "                       0                              1\n",
       " 0  Equatorial Diameter:                       6,792 km\n",
       " 1       Polar Diameter:                       6,752 km\n",
       " 2                 Mass:  6.39 × 10^23 kg (0.11 Earths)\n",
       " 3                Moons:          2 ( Phobos & Deimos )\n",
       " 4       Orbit Distance:       227,943,824 km (1.38 AU)\n",
       " 5         Orbit Period:           687 days (1.9 years)\n",
       " 6  Surface Temperature:                   -87 to -5 °C\n",
       " 7         First Record:              2nd millennium BC\n",
       " 8          Recorded By:           Egyptian astronomers]"
      ]
     },
     "execution_count": 12,
     "metadata": {},
     "output_type": "execute_result"
    }
   ],
   "source": [
    "\n",
    "# Visit the Mars Facts Site Using Pandas to Read\n",
    "mars_facts = pd.read_html(\"https://galaxyfacts-mars.com/\")\n",
    "\n",
    "mars_facts"
   ]
  },
  {
   "cell_type": "code",
   "execution_count": 13,
   "id": "bc94b2ea",
   "metadata": {},
   "outputs": [
    {
     "data": {
      "text/html": [
       "<div>\n",
       "<style scoped>\n",
       "    .dataframe tbody tr th:only-of-type {\n",
       "        vertical-align: middle;\n",
       "    }\n",
       "\n",
       "    .dataframe tbody tr th {\n",
       "        vertical-align: top;\n",
       "    }\n",
       "\n",
       "    .dataframe thead th {\n",
       "        text-align: right;\n",
       "    }\n",
       "</style>\n",
       "<table border=\"1\" class=\"dataframe\">\n",
       "  <thead>\n",
       "    <tr style=\"text-align: right;\">\n",
       "      <th></th>\n",
       "      <th>0</th>\n",
       "      <th>1</th>\n",
       "      <th>2</th>\n",
       "    </tr>\n",
       "  </thead>\n",
       "  <tbody>\n",
       "    <tr>\n",
       "      <th>0</th>\n",
       "      <td>Mars - Earth Comparison</td>\n",
       "      <td>Mars</td>\n",
       "      <td>Earth</td>\n",
       "    </tr>\n",
       "    <tr>\n",
       "      <th>1</th>\n",
       "      <td>Diameter:</td>\n",
       "      <td>6,779 km</td>\n",
       "      <td>12,742 km</td>\n",
       "    </tr>\n",
       "    <tr>\n",
       "      <th>2</th>\n",
       "      <td>Mass:</td>\n",
       "      <td>6.39 × 10^23 kg</td>\n",
       "      <td>5.97 × 10^24 kg</td>\n",
       "    </tr>\n",
       "    <tr>\n",
       "      <th>3</th>\n",
       "      <td>Moons:</td>\n",
       "      <td>2</td>\n",
       "      <td>1</td>\n",
       "    </tr>\n",
       "    <tr>\n",
       "      <th>4</th>\n",
       "      <td>Distance from Sun:</td>\n",
       "      <td>227,943,824 km</td>\n",
       "      <td>149,598,262 km</td>\n",
       "    </tr>\n",
       "  </tbody>\n",
       "</table>\n",
       "</div>"
      ],
      "text/plain": [
       "                         0                1                2\n",
       "0  Mars - Earth Comparison             Mars            Earth\n",
       "1                Diameter:         6,779 km        12,742 km\n",
       "2                    Mass:  6.39 × 10^23 kg  5.97 × 10^24 kg\n",
       "3                   Moons:                2                1\n",
       "4       Distance from Sun:   227,943,824 km   149,598,262 km"
      ]
     },
     "execution_count": 13,
     "metadata": {},
     "output_type": "execute_result"
    }
   ],
   "source": [
    "#Turn into a pandas dataframe\n",
    "mars_df = mars_facts[0]\n",
    "mars_df.head()"
   ]
  },
  {
   "cell_type": "code",
   "execution_count": 14,
   "id": "f366b364",
   "metadata": {},
   "outputs": [],
   "source": [
    "#clean up the header row \n",
    "header_row = 0\n",
    "mars_df.columns = mars_df.iloc[header_row]\n",
    "mars_df = mars_df.drop(header_row)"
   ]
  },
  {
   "cell_type": "code",
   "execution_count": 15,
   "id": "159fcb59",
   "metadata": {},
   "outputs": [
    {
     "data": {
      "text/plain": [
       "'<table border=\"1\" class=\"dataframe\">\\n  <thead>\\n    <tr style=\"text-align: right;\">\\n      <th></th>\\n      <th>Mars - Earth Comparison</th>\\n      <th>Mars</th>\\n      <th>Earth</th>\\n    </tr>\\n  </thead>\\n  <tbody>\\n    <tr>\\n      <th>1</th>\\n      <td>Diameter:</td>\\n      <td>6,779 km</td>\\n      <td>12,742 km</td>\\n    </tr>\\n    <tr>\\n      <th>2</th>\\n      <td>Mass:</td>\\n      <td>6.39 × 10^23 kg</td>\\n      <td>5.97 × 10^24 kg</td>\\n    </tr>\\n    <tr>\\n      <th>3</th>\\n      <td>Moons:</td>\\n      <td>2</td>\\n      <td>1</td>\\n    </tr>\\n    <tr>\\n      <th>4</th>\\n      <td>Distance from Sun:</td>\\n      <td>227,943,824 km</td>\\n      <td>149,598,262 km</td>\\n    </tr>\\n    <tr>\\n      <th>5</th>\\n      <td>Length of Year:</td>\\n      <td>687 Earth days</td>\\n      <td>365.24 days</td>\\n    </tr>\\n    <tr>\\n      <th>6</th>\\n      <td>Temperature:</td>\\n      <td>-87 to -5 °C</td>\\n      <td>-88 to 58°C</td>\\n    </tr>\\n  </tbody>\\n</table>'"
      ]
     },
     "execution_count": 15,
     "metadata": {},
     "output_type": "execute_result"
    }
   ],
   "source": [
    "#Turn the dataframe into an HTML table string\n",
    "html_table = mars_df.to_html()\n",
    "html_table"
   ]
  },
  {
   "cell_type": "code",
   "execution_count": 16,
   "id": "c48621c6",
   "metadata": {},
   "outputs": [],
   "source": [
    "###html_table.replace('\\n', '')"
   ]
  },
  {
   "cell_type": "markdown",
   "id": "581751d5",
   "metadata": {},
   "source": [
    "### Extract the Mars Hemispheres images "
   ]
  },
  {
   "cell_type": "code",
   "execution_count": 26,
   "id": "5e210015",
   "metadata": {},
   "outputs": [],
   "source": [
    "# extract from the Cerberus hemisphere and the other 3 as well\n",
    "\n",
    "mars_hemispheres_url = \"https://marshemispheres.com/\"\n",
    "\n",
    "browser.visit(mars_hemispheres_url)\n",
    "hemisphere_image_urls = []"
   ]
  },
  {
   "cell_type": "code",
   "execution_count": 27,
   "id": "6158adb5",
   "metadata": {},
   "outputs": [
    {
     "name": "stdout",
     "output_type": "stream",
     "text": [
      "[{'title': 'Cerberus Hemisphere Enhanced', 'img_url': 'https://marshemispheres.com/images/f5e372a36edfa389625da6d0cc25d905_cerberus_enhanced.tif_full.jpg'}, {'title': 'Schiaparelli Hemisphere Enhanced', 'img_url': 'https://marshemispheres.com/images/3778f7b43bbbc89d6e3cfabb3613ba93_schiaparelli_enhanced.tif_full.jpg'}, {'title': 'Syrtis Major Hemisphere Enhanced', 'img_url': 'https://marshemispheres.com/images/555e6403a6ddd7ba16ddb0e471cadcf7_syrtis_major_enhanced.tif_full.jpg'}, {'title': 'Valles Marineris Hemisphere Enhanced', 'img_url': 'https://marshemispheres.com/images/b3c7c6c9138f57b4756be9b9c43e3a48_valles_marineris_enhanced.tif_full.jpg'}]\n"
     ]
    }
   ],
   "source": [
    "for i in range (4):\n",
    "    browser.find_by_tag('h3')[i].click()\n",
    "    hemispheres_html = browser.html\n",
    "    hem_soup = bs(hemispheres_html, 'html.parser')\n",
    "    hem = hem_soup.body.find('img', class_ = 'wide-image')\n",
    "    hem_img = hem['src']\n",
    "    title = hem_soup.find('h2', class_ = 'title').get_text()\n",
    "    hem_base_url = 'https://marshemispheres.com/'\n",
    "    hem_url = hem_base_url + hem_img\n",
    "    hem_dict = {\"title\": title, \"img_url\": hem_url}\n",
    "    hemisphere_image_urls.append(hem_dict)\n",
    "    browser.back()\n",
    "\n",
    "print(hemisphere_image_urls)"
   ]
  },
  {
   "cell_type": "code",
   "execution_count": 24,
   "id": "7a8d15b1",
   "metadata": {},
   "outputs": [],
   "source": [
    "#browser.click_link_by_partial_text('Cerberus')"
   ]
  },
  {
   "cell_type": "code",
   "execution_count": null,
   "id": "66ab9eb3",
   "metadata": {},
   "outputs": [],
   "source": [
    "browser.click_link_by_partial_text('Open')"
   ]
  },
  {
   "cell_type": "code",
   "execution_count": null,
   "id": "b0262201",
   "metadata": {},
   "outputs": [],
   "source": [
    "hemispheres_html = browser.html\n",
    "cerberus_soup = bs(hemispheres_html, 'html.parser')\n",
    "\n",
    "cerberus = cerberus_soup.body.find('img', class_ = 'wide-image')\n",
    "cerberus_img = cerberus['src']\n",
    "\n",
    "hem_base_url = 'https://marshemispheres.com/'\n",
    "cerberus_url = hem_base_url + cerberus_img\n",
    "print(cerberus_url)"
   ]
  },
  {
   "cell_type": "code",
   "execution_count": null,
   "id": "fa9be6e6",
   "metadata": {},
   "outputs": [],
   "source": []
  },
  {
   "cell_type": "code",
   "execution_count": null,
   "id": "aa9f692d",
   "metadata": {},
   "outputs": [],
   "source": [
    "mars_hemispheres_url = \"https://marshemispheres.com/\"\n",
    "\n",
    "browser.visit(mars_hemispheres_url)"
   ]
  },
  {
   "cell_type": "code",
   "execution_count": null,
   "id": "f5823b72",
   "metadata": {},
   "outputs": [],
   "source": [
    "browser.click_link_by_partial_text('Schiaparelli')"
   ]
  },
  {
   "cell_type": "code",
   "execution_count": null,
   "id": "d8e5de8e",
   "metadata": {},
   "outputs": [],
   "source": [
    "browser.click_link_by_partial_text('Open')"
   ]
  },
  {
   "cell_type": "code",
   "execution_count": null,
   "id": "fb219702",
   "metadata": {},
   "outputs": [],
   "source": [
    "schiap_html = browser.html\n",
    "schiap_soup = bs(schiap_html, 'html.parser')\n",
    "\n",
    "schiap = schiap_soup.body.find('img', class_ = 'wide-image')\n",
    "schiap_img = schiap['src']\n",
    "\n",
    "hem_base_url = 'https://marshemispheres.com/'\n",
    "schiap_url = hem_base_url + schiap_img\n",
    "print(schiap_url)"
   ]
  },
  {
   "cell_type": "code",
   "execution_count": null,
   "id": "005820aa",
   "metadata": {},
   "outputs": [],
   "source": [
    "mars_hemispheres_url = \"https://marshemispheres.com/\"\n",
    "\n",
    "browser.visit(mars_hemispheres_url)"
   ]
  },
  {
   "cell_type": "code",
   "execution_count": null,
   "id": "44272063",
   "metadata": {},
   "outputs": [],
   "source": [
    "browser.click_link_by_partial_text('Syrtis')"
   ]
  },
  {
   "cell_type": "code",
   "execution_count": null,
   "id": "64772549",
   "metadata": {},
   "outputs": [],
   "source": [
    "browser.click_link_by_partial_text('Open')"
   ]
  },
  {
   "cell_type": "code",
   "execution_count": null,
   "id": "891c233a",
   "metadata": {},
   "outputs": [],
   "source": [
    "syrtis_html = browser.html\n",
    "syrtis_soup = bs(syrtis_html, 'html.parser')\n",
    "\n",
    "syrtis = syrtis_soup.body.find('img', class_ = 'wide-image')\n",
    "syrtis_img = syrtis['src']\n",
    "\n",
    "hem_base_url = 'https://marshemispheres.com/'\n",
    "syrtis_url = hem_base_url + syrtis_img\n",
    "print(syrtis_url)"
   ]
  },
  {
   "cell_type": "code",
   "execution_count": null,
   "id": "eb7b1f4b",
   "metadata": {},
   "outputs": [],
   "source": [
    "mars_hemispheres_url = \"https://marshemispheres.com/\"\n",
    "\n",
    "browser.visit(mars_hemispheres_url)"
   ]
  },
  {
   "cell_type": "code",
   "execution_count": null,
   "id": "786646be",
   "metadata": {},
   "outputs": [],
   "source": [
    "browser.click_link_by_partial_text('Valles')"
   ]
  },
  {
   "cell_type": "code",
   "execution_count": null,
   "id": "fe45e82d",
   "metadata": {},
   "outputs": [],
   "source": [
    "browser.click_link_by_partial_text('Open')"
   ]
  },
  {
   "cell_type": "code",
   "execution_count": null,
   "id": "e7e4ffe0",
   "metadata": {},
   "outputs": [],
   "source": [
    "valles_html = browser.html\n",
    "valles_soup = bs(valles_html, 'html.parser')\n",
    "\n",
    "valles = valles_soup.body.find('img', class_ = 'wide-image')\n",
    "valles_img = valles['src']\n",
    "\n",
    "hem_base_url = 'https://marshemispheres.com/'\n",
    "valles_url = hem_base_url + valles_img\n",
    "print(valles_url)"
   ]
  },
  {
   "cell_type": "code",
   "execution_count": null,
   "id": "7ac45b56",
   "metadata": {},
   "outputs": [],
   "source": [
    "#save all the links in a dictionary \n",
    "\n",
    "hemispheres_image_urls = [\n",
    "    {\"title\": \"Valles Marineris Hemisphere\", \"img_url\": valles_url},\n",
    "    {\"title\": \"Cerberus Hemisphere\", \"img_url\": cerberus_url},\n",
    "    {\"title\": \"Schiaparelli Marineris Hemisphere\", \"img_url\": schiap_url},\n",
    "    {\"title\": \"Syrtis Major Hemisphere\", \"img_url\": syrtis_url}\n",
    "]\n",
    "\n",
    "hemispheres_image_urls"
   ]
  },
  {
   "cell_type": "code",
   "execution_count": null,
   "id": "fca5d14b",
   "metadata": {},
   "outputs": [],
   "source": [
    "\n",
    "final_dictionary = {\n",
    "        'latesthedline': news_title,\n",
    "        'latestparagraph':  news_paragraph,\n",
    "        'featuredimage': featured_image_url,\n",
    "        \"title\": \"Valles Marineris Hemisphere\", \"img_url\": valles_url,\n",
    "        \"title\": \"Cerberus Hemisphere\", \"img_url\": cerberus_url,\n",
    "        \"title\": \"Schiaparelli Marineris Hemisphere\", \"img_url\": schiap_url,\n",
    "        \"title\": \"Syrtis Major Hemisphere\", \"img_url\": syrtis_url \n",
    "    }"
   ]
  },
  {
   "cell_type": "code",
   "execution_count": null,
   "id": "f2b9d825",
   "metadata": {},
   "outputs": [],
   "source": []
  },
  {
   "cell_type": "code",
   "execution_count": null,
   "id": "c707ea29",
   "metadata": {},
   "outputs": [],
   "source": []
  },
  {
   "cell_type": "code",
   "execution_count": null,
   "id": "66d4d1e8",
   "metadata": {},
   "outputs": [],
   "source": []
  }
 ],
 "metadata": {
  "kernelspec": {
   "display_name": "Python 3",
   "language": "python",
   "name": "python3"
  },
  "language_info": {
   "codemirror_mode": {
    "name": "ipython",
    "version": 3
   },
   "file_extension": ".py",
   "mimetype": "text/x-python",
   "name": "python",
   "nbconvert_exporter": "python",
   "pygments_lexer": "ipython3",
   "version": "3.8.10"
  }
 },
 "nbformat": 4,
 "nbformat_minor": 5
}
